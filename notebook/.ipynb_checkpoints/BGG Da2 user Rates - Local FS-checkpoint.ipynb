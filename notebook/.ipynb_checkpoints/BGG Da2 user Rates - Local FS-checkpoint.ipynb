{
 "cells": [
  {
   "cell_type": "markdown",
   "metadata": {
    "collapsed": true
   },
   "source": [
    "# BGG Da2 Score \n",
    "\n",
    "The objetive is the get all Da2 guild user games Score"
   ]
  },
  {
   "cell_type": "markdown",
   "metadata": {},
   "source": [
    "### Import Libaries"
   ]
  },
  {
   "cell_type": "code",
   "execution_count": 3,
   "metadata": {
    "collapsed": false
   },
   "outputs": [],
   "source": [
    "import requests as rq\n",
    "import xml.etree.ElementTree as ET\n",
    "import time \n",
    "import json\n",
    "import pandas as pd\n",
    "import sys\n",
    "#import pymongo\n",
    "import json\n",
    "#import xml2json\n",
    "\n",
    "\n"
   ]
  },
  {
   "cell_type": "markdown",
   "metadata": {},
   "source": [
    "### Get Da2 Guilds Users"
   ]
  },
  {
   "cell_type": "code",
   "execution_count": 5,
   "metadata": {
    "collapsed": false
   },
   "outputs": [
    {
     "ename": "TypeError",
     "evalue": "expected a string or other character buffer object",
     "output_type": "error",
     "traceback": [
      "\u001b[0;31m---------------------------------------------------------------------------\u001b[0m",
      "\u001b[0;31mTypeError\u001b[0m                                 Traceback (most recent call last)",
      "\u001b[0;32m<ipython-input-5-683378141924>\u001b[0m in \u001b[0;36m<module>\u001b[0;34m()\u001b[0m\n\u001b[1;32m     14\u001b[0m     \u001b[0;31m#Save in a file\u001b[0m\u001b[0;34m\u001b[0m\u001b[0;34m\u001b[0m\u001b[0m\n\u001b[1;32m     15\u001b[0m     \u001b[0;32mwith\u001b[0m \u001b[0mopen\u001b[0m\u001b[0;34m(\u001b[0m\u001b[0;34m'games.json'\u001b[0m\u001b[0;34m,\u001b[0m \u001b[0;34m'w'\u001b[0m\u001b[0;34m)\u001b[0m \u001b[0;32mas\u001b[0m \u001b[0moutfile\u001b[0m\u001b[0;34m:\u001b[0m\u001b[0;34m\u001b[0m\u001b[0m\n\u001b[0;32m---> 16\u001b[0;31m         \u001b[0moutfile\u001b[0m\u001b[0;34m.\u001b[0m\u001b[0mwrite\u001b[0m\u001b[0;34m(\u001b[0m\u001b[0mgame_parse\u001b[0m\u001b[0;34m.\u001b[0m\u001b[0mtext\u001b[0m\u001b[0;34m)\u001b[0m\u001b[0;34m\u001b[0m\u001b[0m\n\u001b[0m\u001b[1;32m     17\u001b[0m \u001b[0;34m\u001b[0m\u001b[0m\n\u001b[1;32m     18\u001b[0m     \u001b[0mmy_id\u001b[0m \u001b[0;34m+=\u001b[0m \u001b[0;36m1\u001b[0m\u001b[0;34m\u001b[0m\u001b[0m\n",
      "\u001b[0;31mTypeError\u001b[0m: expected a string or other character buffer object"
     ]
    }
   ],
   "source": [
    "my_id = 1\n",
    "\n",
    "while my_id < 10:\n",
    "    \n",
    "    uri = 'https://www.boardgamegeek.com/xmlapi2/thing?id=' + str(my_id)\n",
    "    while True:\n",
    "        game = rq.get(uri)\n",
    "        if (game.status_code == 200):\n",
    "            break\n",
    "        time.sleep(5)\n",
    "        \n",
    "    game_parse = ET.fromstring(game.text.encode('utf-8'))\n",
    "    name = game_parse.find('item').get\n",
    "    \n",
    "    #Save in a file \n",
    "    #with open('games.json', 'w') as outfile:\n",
    "    #    outfile.write(game_parse.text)\n",
    "    \n",
    "    my_id += 1\n",
    "    \n"
   ]
  },
  {
   "cell_type": "code",
   "execution_count": 4,
   "metadata": {
    "collapsed": false
   },
   "outputs": [],
   "source": [
    "# Check bgg results \n",
    "\n",
    "if da2_guild.status_code != 200:\n",
    "    sys.exit()\n"
   ]
  },
  {
   "cell_type": "code",
   "execution_count": 5,
   "metadata": {
    "collapsed": true
   },
   "outputs": [],
   "source": [
    "# Parse Bgg \n",
    "da2_guild_parse = ET.fromstring(da2_guild.text.encode('utf-8'))"
   ]
  },
  {
   "cell_type": "code",
   "execution_count": 6,
   "metadata": {
    "collapsed": false
   },
   "outputs": [],
   "source": [
    "# Calculate Guild members pages \n",
    "\n",
    "guild_members_num = int(da2_guild_parse.find('members').get('count'))\n",
    "num_pages = int(round(guild_members_num/25) + 1)\n",
    "\n",
    "\n",
    "\n"
   ]
  },
  {
   "cell_type": "code",
   "execution_count": 7,
   "metadata": {
    "collapsed": false
   },
   "outputs": [],
   "source": [
    "# Get Da2 guild Members list \n",
    "\n",
    "da2_guild_members = list()\n",
    "\n",
    "for page in range(1, num_pages+1):\n",
    "    uri = 'http://www.boardgamegeek.com/xmlapi2/guild?id=862&members=1&page='+str(page)\n",
    "    da2_guild = rq.get(uri)\n",
    "    while (da2_guild.status_code != 200):\n",
    "        time.sleep(10)\n",
    "        da2_guild = rq.get(uri)        \n",
    "    \n",
    "    # Vamos cogiendo los nombres de los usuarios\n",
    "    for i in da2_guild_parse.find('members'):\n",
    "        da2_guild_members.append(i.get('name'))\n",
    "\n",
    "    \n",
    "\n",
    "    "
   ]
  },
  {
   "cell_type": "markdown",
   "metadata": {},
   "source": [
    "### Get Da2 Users games rates"
   ]
  },
  {
   "cell_type": "code",
   "execution_count": 10,
   "metadata": {
    "collapsed": false
   },
   "outputs": [],
   "source": [
    "da2_user = {}\n",
    "\n",
    "\n",
    "for i in da2_guild_members:\n",
    "    uri = 'http://www.boardgamegeek.com/xmlapi2/collection?username='+str(i)+'&stats=1&rated=1'\n",
    "    bgg_user = rq.get(uri)\n",
    "    while (bgg_user.status_code != 200):\n",
    "        time.sleep(10)\n",
    "        bgg_user = rq.get(uri)\n",
    "        \n",
    "    user_col = ET.fromstring(bgg_user.text.encode('utf-8'))\n",
    "    cont = 0\n",
    "    for juego in user_col.findall('item'):\n",
    "                 \n",
    "        rating = juego.find(\"stats\").find(\"rating\")\n",
    "        ranks = rating.find(\"ranks\")\n",
    "        for r in ranks.findall(\"rank\"):\n",
    "            posicion = r.get(\"value\")\n",
    "            tipo = r.get(\"name\")\n",
    "            if (tipo == \"boardgame\"):\n",
    "              if(juego.find(\"originalname\") == None ):\n",
    "                nombre_juego = juego.find(\"name\").text\n",
    "              else:\n",
    "                nombre_juego = juego.find(\"originalname\").text\n",
    "\n",
    "            nota = rating.get(\"value\")\n",
    "        user_rate = {}\n",
    "        user_rate['name'] = str(i)\n",
    "        user_rate['gamename'] = nombre_juego\n",
    "        user_rate['rate'] = str(nota)\n",
    "        cont = cont + 1\n",
    "        \n",
    "   \n",
    "        #Save in a file \n",
    "        with open('/data/raw/bgg/'+ str(i)+'_'+str(cont)+'_'+'rates.json', 'w') as outfile:\n",
    "            outfile.write(json.JSONEncoder().encode(user_rate))\n",
    "        \n",
    "\n",
    "    \n",
    "    \n",
    "\n",
    "\n"
   ]
  },
  {
   "cell_type": "markdown",
   "metadata": {},
   "source": []
  },
  {
   "cell_type": "code",
   "execution_count": null,
   "metadata": {
    "collapsed": true
   },
   "outputs": [],
   "source": []
  },
  {
   "cell_type": "code",
   "execution_count": 29,
   "metadata": {
    "collapsed": false
   },
   "outputs": [],
   "source": [
    "\n",
    "\n"
   ]
  },
  {
   "cell_type": "code",
   "execution_count": 30,
   "metadata": {
    "collapsed": false
   },
   "outputs": [],
   "source": []
  },
  {
   "cell_type": "code",
   "execution_count": null,
   "metadata": {
    "collapsed": true
   },
   "outputs": [],
   "source": []
  }
 ],
 "metadata": {
  "anaconda-cloud": {},
  "kernelspec": {
   "display_name": "Python [default]",
   "language": "python",
   "name": "python2"
  },
  "language_info": {
   "codemirror_mode": {
    "name": "ipython",
    "version": 2
   },
   "file_extension": ".py",
   "mimetype": "text/x-python",
   "name": "python",
   "nbconvert_exporter": "python",
   "pygments_lexer": "ipython2",
   "version": "2.7.12"
  },
  "name": "BGG_Da2_user_games_rates",
  "notebookId": 925946587045450
 },
 "nbformat": 4,
 "nbformat_minor": 0
}
