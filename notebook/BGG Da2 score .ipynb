{
 "cells": [
  {
   "cell_type": "markdown",
   "metadata": {},
   "source": [
    "# BGG Da2 Score \n",
    "\n",
    "The objetive is the get all Da2 guild user games Score "
   ]
  },
  {
   "cell_type": "markdown",
   "metadata": {},
   "source": [
    "### Import Libaries "
   ]
  },
  {
   "cell_type": "code",
   "execution_count": 115,
   "metadata": {
    "collapsed": true
   },
   "outputs": [],
   "source": [
    "import requests as rq\n",
    "import xml.etree.ElementTree as ET\n",
    "import time \n",
    "import json\n",
    "import pandas as pd"
   ]
  },
  {
   "cell_type": "markdown",
   "metadata": {},
   "source": [
    "### Get Da2 Guilds Users"
   ]
  },
  {
   "cell_type": "code",
   "execution_count": 68,
   "metadata": {
    "collapsed": false
   },
   "outputs": [],
   "source": [
    "uri = 'http://www.boardgamegeek.com/xmlapi2/guild?id=862&members=1'\n",
    "da2_guild = rq.get(uri)\n",
    "while (da2_guild.status_code == 202):\n",
    "    time.sleep(10)\n",
    "    da2_guild = rq.get(uri)"
   ]
  },
  {
   "cell_type": "code",
   "execution_count": 69,
   "metadata": {
    "collapsed": false
   },
   "outputs": [
    {
     "name": "stdout",
     "output_type": "stream",
     "text": [
      "200\n"
     ]
    }
   ],
   "source": [
    "# Check bgg results \n",
    "print(da2_guild.status_code )"
   ]
  },
  {
   "cell_type": "code",
   "execution_count": 70,
   "metadata": {
    "collapsed": true
   },
   "outputs": [],
   "source": [
    "# Parse Bgg \n",
    "da2_guild_parse = ET.fromstring(da2_guild.text )"
   ]
  },
  {
   "cell_type": "code",
   "execution_count": 71,
   "metadata": {
    "collapsed": false
   },
   "outputs": [],
   "source": [
    "# Calculate Guild members pages \n",
    "\n",
    "guild_members_num = int(da2_guild_parse.find('members').get('count'))\n",
    "\n",
    "num_pages = round(guild_members_num/25) + 1\n"
   ]
  },
  {
   "cell_type": "code",
   "execution_count": 76,
   "metadata": {
    "collapsed": false
   },
   "outputs": [
    {
     "name": "stdout",
     "output_type": "stream",
     "text": [
      "['5Renton', 'abendoso', 'Aecios', 'allaro1', 'Anaskela', 'angeru', 'atlias', 'atorija', 'Awell', 'ChrisBlair', 'cptbucci', 'D0NK1J0T3', 'dariodorado', 'des06', 'eduvigis', 'estheon', 'finijorge', 'freakowsky', 'Greypilgrim', 'gvt2000', 'igores', 'Ikarus', 'itus', 'jasorel', 'jsper', 'kalimatias', 'kastel', 'kebrantador', 'Koblar', 'LADER', 'Lochi', 'lostrikis', 'malarrama', 'Manu Chao', 'marantito74', 'Michel13', 'muyoze', 'netskaven', 'olaki', 'pepelessar1', 'Peto', 'raxar', 'Razmad', 'Renton', 'rgdebarros', 'rkoko', 'RobCry', 'roblax', 'ryoga121', 'sandraynapi', 'schonochini', 'silmarwen754', 'Stoicakovic', 'Tache', 'taiho', 'terKo', 'Urban Noises', 'uriyum', 'vonkhades', 'Wizzy Parkerir', 'zorro_jv']\n"
     ]
    }
   ],
   "source": [
    "# Get Da2 guild Members list \n",
    "\n",
    "da2_guild_members = list()\n",
    "\n",
    "for page in range(1,num_pages+1):\n",
    "    uri = 'http://www.boardgamegeek.com/xmlapi2/guild?id=862&members=1&page='+str(page)\n",
    "    da2_guild = rq.get(uri)\n",
    "    while (da2_guild.status_code == 202):\n",
    "        time.sleep(50)\n",
    "        da2_guild = rq.get(uri)        \n",
    "    da2_guild_parse = ET.fromstring(da2_guild.text )    \n",
    "    for i in da2_guild_parse.find('members'):\n",
    "        da2_guild_members.append(i.get('name'))\n",
    "\n",
    "    \n",
    "\n",
    "    "
   ]
  },
  {
   "cell_type": "code",
   "execution_count": 87,
   "metadata": {
    "collapsed": false
   },
   "outputs": [
    {
     "name": "stdout",
     "output_type": "stream",
     "text": [
      "['5Renton', 'abendoso', 'Aecios', 'allaro1', 'Anaskela', 'angeru', 'atlias', 'atorija', 'Awell', 'ChrisBlair', 'cptbucci', 'D0NK1J0T3', 'dariodorado', 'des06', 'eduvigis', 'estheon', 'finijorge', 'freakowsky', 'Greypilgrim', 'gvt2000', 'igores', 'Ikarus', 'itus', 'jasorel', 'jsper', 'kalimatias', 'kastel', 'kebrantador', 'Koblar', 'LADER', 'Lochi', 'lostrikis', 'malarrama', 'Manu Chao', 'marantito74', 'Michel13', 'muyoze', 'netskaven', 'olaki', 'pepelessar1', 'Peto', 'raxar', 'Razmad', 'Renton', 'rgdebarros', 'rkoko', 'RobCry', 'roblax', 'ryoga121', 'sandraynapi', 'schonochini', 'silmarwen754', 'Stoicakovic', 'Tache', 'taiho', 'terKo', 'Urban Noises', 'uriyum', 'vonkhades', 'Wizzy Parkerir', 'zorro_jv']\n",
      "['5Renton', 'abendoso', 'Aecios']\n"
     ]
    }
   ],
   "source": [
    "# Get User Game notes \n",
    "\n",
    "\n",
    "\n",
    "print(da2_guild_members)\n",
    "print(da2_guild_members[0:3])\n",
    "\n",
    "\n",
    "\n",
    "    "
   ]
  },
  {
   "cell_type": "code",
   "execution_count": 142,
   "metadata": {
    "collapsed": false
   },
   "outputs": [],
   "source": [
    "da2_user = {}\n",
    "\n",
    "\n",
    "for i in da2_guild_members:\n",
    "\n",
    "    uri = 'http://www.boardgamegeek.com/xmlapi2/collection?username='+str(i)+'&stats=1&rated=1'\n",
    "    bgg_user = rq.get(uri)\n",
    "    while (bgg_user.status_code == 202):\n",
    "        time.sleep(10)\n",
    "        bgg_user = rq.get(uri)\n",
    "        \n",
    "    user_col = ET.fromstring(bgg_user.text)\n",
    "    \n",
    "    notas_dic = {}\n",
    "    \n",
    "    for juego in user_col.findall('item'):\n",
    "        #rating = juego.find(\"rating\")\n",
    "        rating = juego.find(\"stats\").find(\"rating\")\n",
    "        ranks = rating.find(\"ranks\")\n",
    "        for r in ranks.findall(\"rank\"):\n",
    "            rank_str = r.get(\"value\")\n",
    "            if (rank_str != \"Not Ranked\" and r.get(\"name\") == \"boardgame\"):\n",
    "                if (int(rank_str) <= 10):\n",
    "                    if(juego.find(\"originalname\") == None ):\n",
    "                        nombre = juego.find(\"name\").text\n",
    "                    else:\n",
    "                        nombre = juego.find(\"originalname\").text\n",
    "\n",
    "                    nota = rating.get(\"value\")\n",
    "        #print(str(nombre) + \": \" + str(nota))\n",
    "                    notas_dic[nombre] = nota\n",
    "        #print (rating.get(\"value\"))\n",
    "      \n",
    "        \n",
    "    da2_user[str(i)]=notas_dic\n"
   ]
  },
  {
   "cell_type": "code",
   "execution_count": 143,
   "metadata": {
    "collapsed": true
   },
   "outputs": [],
   "source": [
    "da2_user_json = json.JSONEncoder().encode(da2_user)"
   ]
  },
  {
   "cell_type": "code",
   "execution_count": 144,
   "metadata": {
    "collapsed": false
   },
   "outputs": [],
   "source": [
    "with open('C:\\Temp\\da2_users.json', 'w') as outfile:\n",
    "    json.dump(da2_user_json, outfile)"
   ]
  },
  {
   "cell_type": "code",
   "execution_count": 145,
   "metadata": {
    "collapsed": false
   },
   "outputs": [],
   "source": [
    "outfile.close()"
   ]
  },
  {
   "cell_type": "code",
   "execution_count": null,
   "metadata": {
    "collapsed": true
   },
   "outputs": [],
   "source": []
  },
  {
   "cell_type": "code",
   "execution_count": null,
   "metadata": {
    "collapsed": true
   },
   "outputs": [],
   "source": []
  }
 ],
 "metadata": {
  "kernelspec": {
   "display_name": "Python [Root]",
   "language": "python",
   "name": "Python [Root]"
  },
  "language_info": {
   "codemirror_mode": {
    "name": "ipython",
    "version": 3
   },
   "file_extension": ".py",
   "mimetype": "text/x-python",
   "name": "python",
   "nbconvert_exporter": "python",
   "pygments_lexer": "ipython3",
   "version": "3.5.2"
  }
 },
 "nbformat": 4,
 "nbformat_minor": 0
}
