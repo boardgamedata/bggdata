{
 "cells": [
  {
   "cell_type": "markdown",
   "metadata": {
    "collapsed": true
   },
   "source": [
    "# BGG Da2 Score \n",
    "\n",
    "The objetive is the get all Da2 guild user games Score"
   ]
  },
  {
   "cell_type": "markdown",
   "metadata": {},
   "source": [
    "### Import Libaries"
   ]
  },
  {
   "cell_type": "code",
   "execution_count": 3,
   "metadata": {
    "collapsed": false
   },
   "outputs": [],
   "source": [
    "import requests as rq\n",
    "import xml.etree.ElementTree as ET\n",
    "import time \n",
    "import json\n",
    "import pandas as pd\n",
    "import sys\n",
    "import pymongo\n",
    "import json\n",
    "import xml2json\n",
    "from pymongo import MongoClient\n",
    "\n"
   ]
  },
  {
   "cell_type": "markdown",
   "metadata": {},
   "source": [
    "### Mongo Conections"
   ]
  },
  {
   "cell_type": "code",
   "execution_count": 4,
   "metadata": {
    "collapsed": true
   },
   "outputs": [],
   "source": [
    "mongodb = MongoClient('localhost', 27017)"
   ]
  },
  {
   "cell_type": "markdown",
   "metadata": {},
   "source": [
    "### Get Da2 Guilds Users"
   ]
  },
  {
   "cell_type": "code",
   "execution_count": 5,
   "metadata": {
    "collapsed": false
   },
   "outputs": [],
   "source": [
    "uri = 'http://www.boardgamegeek.com/xmlapi2/guild?id=862&members=1'\n",
    "da2_guild = rq.get(uri)\n",
    "while (da2_guild.status_code != 200):\n",
    "    time.sleep(10)\n",
    "    da2_guild = rq.get(uri)"
   ]
  },
  {
   "cell_type": "code",
   "execution_count": 6,
   "metadata": {
    "collapsed": false
   },
   "outputs": [],
   "source": [
    "# Check bgg results \n",
    "\n",
    "if da2_guild.status_code != 200:\n",
    "    sys.exit()\n"
   ]
  },
  {
   "cell_type": "code",
   "execution_count": 7,
   "metadata": {
    "collapsed": true
   },
   "outputs": [],
   "source": [
    "# Parse Bgg \n",
    "da2_guild_parse = ET.fromstring(da2_guild.text.encode('utf-8'))"
   ]
  },
  {
   "cell_type": "code",
   "execution_count": 8,
   "metadata": {
    "collapsed": false
   },
   "outputs": [],
   "source": [
    "# Calculate Guild members pages \n",
    "\n",
    "guild_members_num = int(da2_guild_parse.find('members').get('count'))\n",
    "num_pages = int(round(guild_members_num/25) + 1)\n",
    "\n",
    "\n",
    "\n"
   ]
  },
  {
   "cell_type": "code",
   "execution_count": 13,
   "metadata": {
    "collapsed": false
   },
   "outputs": [],
   "source": [
    "# Get Da2 guild Members list \n",
    "\n",
    "da2_guild_members = list()\n",
    "\n",
    "for page in range(1, num_pages+1):\n",
    "    uri = 'http://www.boardgamegeek.com/xmlapi2/guild?id=862&members=1&page='+str(page)\n",
    "    da2_guild = rq.get(uri)\n",
    "    while (da2_guild.status_code != 200):\n",
    "        time.sleep(10)\n",
    "        da2_guild = rq.get(uri)        \n",
    "    \n",
    "    # Vamos cogiendo los nombres de los usuarios\n",
    "    for i in da2_guild_parse.find('members'):\n",
    "        da2_guild_members.append(i.get('name'))\n",
    "\n",
    "    \n",
    "\n",
    "    "
   ]
  },
  {
   "cell_type": "markdown",
   "metadata": {},
   "source": [
    "### Get Da2 Users games rates"
   ]
  },
  {
   "cell_type": "code",
   "execution_count": 6,
   "metadata": {
    "collapsed": false
   },
   "outputs": [
    {
     "ename": "NameError",
     "evalue": "name 'da2_guild_members' is not defined",
     "output_type": "error",
     "traceback": [
      "\u001b[0;31m---------------------------------------------------------------------------\u001b[0m",
      "\u001b[0;31mNameError\u001b[0m                                 Traceback (most recent call last)",
      "\u001b[0;32m<ipython-input-6-51b2a6647569>\u001b[0m in \u001b[0;36m<module>\u001b[0;34m()\u001b[0m\n\u001b[1;32m      2\u001b[0m \u001b[0;34m\u001b[0m\u001b[0m\n\u001b[1;32m      3\u001b[0m \u001b[0;34m\u001b[0m\u001b[0m\n\u001b[0;32m----> 4\u001b[0;31m \u001b[0;32mfor\u001b[0m \u001b[0mi\u001b[0m \u001b[0;32min\u001b[0m \u001b[0mda2_guild_members\u001b[0m\u001b[0;34m:\u001b[0m\u001b[0;34m\u001b[0m\u001b[0m\n\u001b[0m\u001b[1;32m      5\u001b[0m     \u001b[0muri\u001b[0m \u001b[0;34m=\u001b[0m \u001b[0;34m'http://www.boardgamegeek.com/xmlapi2/collection?username='\u001b[0m\u001b[0;34m+\u001b[0m\u001b[0mstr\u001b[0m\u001b[0;34m(\u001b[0m\u001b[0mi\u001b[0m\u001b[0;34m)\u001b[0m\u001b[0;34m+\u001b[0m\u001b[0;34m'&stats=1&rated=1'\u001b[0m\u001b[0;34m\u001b[0m\u001b[0m\n\u001b[1;32m      6\u001b[0m     \u001b[0mbgg_user\u001b[0m \u001b[0;34m=\u001b[0m \u001b[0mrq\u001b[0m\u001b[0;34m.\u001b[0m\u001b[0mget\u001b[0m\u001b[0;34m(\u001b[0m\u001b[0muri\u001b[0m\u001b[0;34m)\u001b[0m\u001b[0;34m\u001b[0m\u001b[0m\n",
      "\u001b[0;31mNameError\u001b[0m: name 'da2_guild_members' is not defined"
     ]
    }
   ],
   "source": [
    "da2_user = {}\n",
    "\n",
    "\n",
    "for i in da2_guild_members:\n",
    "    uri = 'http://www.boardgamegeek.com/xmlapi2/collection?username='+str(i)+'&stats=1&rated=1'\n",
    "    bgg_user = rq.get(uri)\n",
    "    while (bgg_user.status_code != 200):\n",
    "        time.sleep(10)\n",
    "        bgg_user = rq.get(uri)\n",
    "        \n",
    "    user_col = ET.fromstring(bgg_user.text.encode('utf-8'))\n",
    "    \n",
    "    for juego in user_col.findall('item'):\n",
    "                 \n",
    "        rating = juego.find(\"stats\").find(\"rating\")\n",
    "        ranks = rating.find(\"ranks\")\n",
    "        for r in ranks.findall(\"rank\"):\n",
    "            posicion = r.get(\"value\")\n",
    "            tipo = r.get(\"name\")\n",
    "            if (tipo == \"boardgame\"):\n",
    "              if(juego.find(\"originalname\") == None ):\n",
    "                nombre_juego = juego.find(\"name\").text\n",
    "              else:\n",
    "                nombre_juego = juego.find(\"originalname\").text\n",
    "\n",
    "            nota = rating.get(\"value\")\n",
    "        user_rate = {}\n",
    "        user_rate['name'] = str(i)\n",
    "        user_rate['gamename'] = nombre_juego\n",
    "        user_rate['rate'] = str(nota)\n",
    "        \n",
    "        mongodb.bgg.da2.insert_one(user_rate)\n",
    "        # Save in a file \n",
    "        #with open('C:\\\\temp\\\\'+ str(i)+'_'+str(nombre_juego)+'_'+'rates.json', 'w') as outfile:\n",
    "        #    outfile.write(json.JSONEncoder().encode(user_rate))\n",
    "        \n",
    "\n",
    "    \n",
    "    \n",
    "\n",
    "\n"
   ]
  },
  {
   "cell_type": "markdown",
   "metadata": {},
   "source": []
  },
  {
   "cell_type": "code",
   "execution_count": null,
   "metadata": {
    "collapsed": true
   },
   "outputs": [],
   "source": [
    "\n",
    "mongodb.bgg.da2.count()"
   ]
  },
  {
   "cell_type": "code",
   "execution_count": 29,
   "metadata": {
    "collapsed": false
   },
   "outputs": [],
   "source": [
    "\n",
    "\n"
   ]
  },
  {
   "cell_type": "code",
   "execution_count": 30,
   "metadata": {
    "collapsed": false
   },
   "outputs": [],
   "source": []
  },
  {
   "cell_type": "code",
   "execution_count": null,
   "metadata": {
    "collapsed": true
   },
   "outputs": [],
   "source": []
  }
 ],
 "metadata": {
  "anaconda-cloud": {},
  "kernelspec": {
   "display_name": "Anaconda2",
   "language": "python",
   "name": "anaconda2"
  },
  "language_info": {
   "codemirror_mode": {
    "name": "ipython",
    "version": 2
   },
   "file_extension": ".py",
   "mimetype": "text/x-python",
   "name": "python",
   "nbconvert_exporter": "python",
   "pygments_lexer": "ipython2",
   "version": "2.7.12"
  },
  "name": "BGG_Da2_user_games_rates",
  "notebookId": 925946587045450
 },
 "nbformat": 4,
 "nbformat_minor": 0
}
