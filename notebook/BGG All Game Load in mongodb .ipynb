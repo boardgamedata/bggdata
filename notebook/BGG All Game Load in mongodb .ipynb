{
 "cells": [
  {
   "cell_type": "markdown",
   "metadata": {},
   "source": [
    "# BGG load in MongoDB\n",
    "\n",
    "The objetive is the get all Da2 guild user games Score"
   ]
  },
  {
   "cell_type": "markdown",
   "metadata": {},
   "source": [
    "### Import Libaries"
   ]
  },
  {
   "cell_type": "code",
   "execution_count": 2,
   "metadata": {
    "collapsed": false
   },
   "outputs": [],
   "source": [
    "import requests as rq\n",
    "import xml.etree.ElementTree as ET\n",
    "import time \n",
    "import json\n",
    "import pandas as pd\n",
    "import sys\n",
    "import pymongo\n",
    "import json\n",
    "import xmltodict\n",
    "from pymongo import MongoClient\n"
   ]
  },
  {
   "cell_type": "markdown",
   "metadata": {},
   "source": [
    "### Mongo Conections"
   ]
  },
  {
   "cell_type": "code",
   "execution_count": 3,
   "metadata": {
    "collapsed": false
   },
   "outputs": [],
   "source": [
    "mongodb = MongoClient('localhost', 27017)"
   ]
  },
  {
   "cell_type": "markdown",
   "metadata": {},
   "source": [
    "### Load Da2 Guilds Members"
   ]
  },
  {
   "cell_type": "code",
   "execution_count": 10,
   "metadata": {
    "collapsed": false
   },
   "outputs": [],
   "source": [
    "for i in range(1,100):\n",
    "    \n",
    "    \n",
    "    uri = 'http://www.boardgamegeek.com/xmlapi2/thing?id='+str(i)+'&type=boardgame,boardgameexpansion'\n",
    "    \n",
    "    while True:\n",
    "        bgg_user_get = rq.get(uri)\n",
    "        if (bgg_user_get.status_code == 200):\n",
    "            break\n",
    "        time.sleep(1)\n",
    "    \n",
    "    \n",
    "    \n",
    "    #print bgg_user_get.text\n",
    "    bgg_user = xmltodict.parse(bgg_user_get.text.encode('utf-8'))\n",
    "    bgg_user['_id']=i\n",
    "    time.sleep(1)\n",
    "    mongodb.bgg.boardgames.insert_one(bgg_user)\n"
   ]
  },
  {
   "cell_type": "code",
   "execution_count": 4,
   "metadata": {
    "collapsed": false
   },
   "outputs": [],
   "source": [
    "\n"
   ]
  },
  {
   "cell_type": "code",
   "execution_count": null,
   "metadata": {
    "collapsed": true
   },
   "outputs": [],
   "source": []
  },
  {
   "cell_type": "code",
   "execution_count": null,
   "metadata": {
    "collapsed": false
   },
   "outputs": [],
   "source": [
    "\n",
    "\n",
    "\n",
    "        \n"
   ]
  },
  {
   "cell_type": "code",
   "execution_count": null,
   "metadata": {
    "collapsed": true
   },
   "outputs": [],
   "source": []
  }
 ],
 "metadata": {
  "anaconda-cloud": {},
  "kernelspec": {
   "display_name": "Python [conda root]",
   "language": "python",
   "name": "conda-root-py"
  },
  "language_info": {
   "codemirror_mode": {
    "name": "ipython",
    "version": 3
   },
   "file_extension": ".py",
   "mimetype": "text/x-python",
   "name": "python",
   "nbconvert_exporter": "python",
   "pygments_lexer": "ipython3",
   "version": "3.5.2"
  }
 },
 "nbformat": 4,
 "nbformat_minor": 1
}
